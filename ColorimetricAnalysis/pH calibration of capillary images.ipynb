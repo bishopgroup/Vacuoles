{
 "cells": [
  {
   "cell_type": "code",
   "execution_count": 48,
   "id": "bfbb4eed",
   "metadata": {},
   "outputs": [],
   "source": [
    "import numpy as np\n",
    "import pandas as pd\n",
    "import pims\n",
    "import matplotlib.pyplot as plt\n",
    "from scipy.optimize import minimize\n",
    "from colormath.color_objects import XYZColor, sRGBColor\n",
    "from colormath.color_conversions import convert_color\n",
    "from sklearn.linear_model import LinearRegression\n",
    "from sklearn.metrics import r2_score\n",
    "\n",
    "tab10 = plt.get_cmap('tab10')\n",
    "cmap =  plt.get_cmap('viridis')\n",
    "\n",
    "%config InlineBackend.figure_format='retina'\n",
    "%matplotlib inline\n",
    "\n",
    "plt.rcParams['axes.linewidth'] = 0.5\n",
    "plt.rcParams['font.family'] = 'sans-serif'\n",
    "plt.rcParams['font.sans-serif'] = ['Arial']"
   ]
  },
  {
   "cell_type": "markdown",
   "id": "aa3c7c0c",
   "metadata": {},
   "source": [
    "# Read data"
   ]
  },
  {
   "cell_type": "code",
   "execution_count": 1,
   "id": "8f559511",
   "metadata": {},
   "outputs": [],
   "source": [
    "## Read csv file containing RGB values of capillary images with unknown pH values"
   ]
  },
  {
   "cell_type": "code",
   "execution_count": 49,
   "id": "3552a74e",
   "metadata": {},
   "outputs": [
    {
     "data": {
      "text/html": [
       "<div>\n",
       "<style scoped>\n",
       "    .dataframe tbody tr th:only-of-type {\n",
       "        vertical-align: middle;\n",
       "    }\n",
       "\n",
       "    .dataframe tbody tr th {\n",
       "        vertical-align: top;\n",
       "    }\n",
       "\n",
       "    .dataframe thead th {\n",
       "        text-align: right;\n",
       "    }\n",
       "</style>\n",
       "<table border=\"1\" class=\"dataframe\">\n",
       "  <thead>\n",
       "    <tr style=\"text-align: right;\">\n",
       "      <th></th>\n",
       "      <th>Unnamed: 0</th>\n",
       "      <th>bicarbonate</th>\n",
       "      <th>R</th>\n",
       "      <th>G</th>\n",
       "      <th>B</th>\n",
       "    </tr>\n",
       "  </thead>\n",
       "  <tbody>\n",
       "    <tr>\n",
       "      <th>0</th>\n",
       "      <td>0</td>\n",
       "      <td>1.0</td>\n",
       "      <td>128.330141</td>\n",
       "      <td>124.857243</td>\n",
       "      <td>99.603990</td>\n",
       "    </tr>\n",
       "    <tr>\n",
       "      <th>1</th>\n",
       "      <td>1</td>\n",
       "      <td>2.0</td>\n",
       "      <td>129.726733</td>\n",
       "      <td>126.286001</td>\n",
       "      <td>99.674976</td>\n",
       "    </tr>\n",
       "    <tr>\n",
       "      <th>2</th>\n",
       "      <td>2</td>\n",
       "      <td>3.0</td>\n",
       "      <td>129.572655</td>\n",
       "      <td>126.104204</td>\n",
       "      <td>99.664930</td>\n",
       "    </tr>\n",
       "    <tr>\n",
       "      <th>3</th>\n",
       "      <td>3</td>\n",
       "      <td>4.0</td>\n",
       "      <td>123.960978</td>\n",
       "      <td>121.062458</td>\n",
       "      <td>93.649545</td>\n",
       "    </tr>\n",
       "    <tr>\n",
       "      <th>4</th>\n",
       "      <td>4</td>\n",
       "      <td>5.0</td>\n",
       "      <td>123.940980</td>\n",
       "      <td>121.132275</td>\n",
       "      <td>93.588663</td>\n",
       "    </tr>\n",
       "  </tbody>\n",
       "</table>\n",
       "</div>"
      ],
      "text/plain": [
       "   Unnamed: 0  bicarbonate           R           G          B\n",
       "0           0          1.0  128.330141  124.857243  99.603990\n",
       "1           1          2.0  129.726733  126.286001  99.674976\n",
       "2           2          3.0  129.572655  126.104204  99.664930\n",
       "3           3          4.0  123.960978  121.062458  93.649545\n",
       "4           4          5.0  123.940980  121.132275  93.588663"
      ]
     },
     "execution_count": 49,
     "metadata": {},
     "output_type": "execute_result"
    }
   ],
   "source": [
    "df = pd.read_csv('.csv')\n",
    "df.head()"
   ]
  },
  {
   "cell_type": "code",
   "execution_count": null,
   "id": "c23fdde6",
   "metadata": {},
   "outputs": [],
   "source": [
    "## Read csv file containing RGB values of capillary images with known pH values"
   ]
  },
  {
   "cell_type": "code",
   "execution_count": 51,
   "id": "7c93cd34",
   "metadata": {},
   "outputs": [
    {
     "data": {
      "text/html": [
       "<div>\n",
       "<style scoped>\n",
       "    .dataframe tbody tr th:only-of-type {\n",
       "        vertical-align: middle;\n",
       "    }\n",
       "\n",
       "    .dataframe tbody tr th {\n",
       "        vertical-align: top;\n",
       "    }\n",
       "\n",
       "    .dataframe thead th {\n",
       "        text-align: right;\n",
       "    }\n",
       "</style>\n",
       "<table border=\"1\" class=\"dataframe\">\n",
       "  <thead>\n",
       "    <tr style=\"text-align: right;\">\n",
       "      <th></th>\n",
       "      <th>Unnamed: 0</th>\n",
       "      <th>pH</th>\n",
       "      <th>R</th>\n",
       "      <th>G</th>\n",
       "      <th>B</th>\n",
       "    </tr>\n",
       "  </thead>\n",
       "  <tbody>\n",
       "    <tr>\n",
       "      <th>0</th>\n",
       "      <td>0</td>\n",
       "      <td>7.0</td>\n",
       "      <td>148.412108</td>\n",
       "      <td>140.390083</td>\n",
       "      <td>99.179233</td>\n",
       "    </tr>\n",
       "    <tr>\n",
       "      <th>1</th>\n",
       "      <td>1</td>\n",
       "      <td>7.0</td>\n",
       "      <td>148.847767</td>\n",
       "      <td>140.975134</td>\n",
       "      <td>99.867223</td>\n",
       "    </tr>\n",
       "    <tr>\n",
       "      <th>2</th>\n",
       "      <td>2</td>\n",
       "      <td>7.0</td>\n",
       "      <td>148.674228</td>\n",
       "      <td>140.825201</td>\n",
       "      <td>99.624101</td>\n",
       "    </tr>\n",
       "    <tr>\n",
       "      <th>3</th>\n",
       "      <td>3</td>\n",
       "      <td>7.5</td>\n",
       "      <td>133.932627</td>\n",
       "      <td>127.693807</td>\n",
       "      <td>93.218343</td>\n",
       "    </tr>\n",
       "    <tr>\n",
       "      <th>4</th>\n",
       "      <td>4</td>\n",
       "      <td>7.5</td>\n",
       "      <td>138.562538</td>\n",
       "      <td>132.246749</td>\n",
       "      <td>97.994510</td>\n",
       "    </tr>\n",
       "  </tbody>\n",
       "</table>\n",
       "</div>"
      ],
      "text/plain": [
       "   Unnamed: 0   pH           R           G          B\n",
       "0           0  7.0  148.412108  140.390083  99.179233\n",
       "1           1  7.0  148.847767  140.975134  99.867223\n",
       "2           2  7.0  148.674228  140.825201  99.624101\n",
       "3           3  7.5  133.932627  127.693807  93.218343\n",
       "4           4  7.5  138.562538  132.246749  97.994510"
      ]
     },
     "execution_count": 51,
     "metadata": {},
     "output_type": "execute_result"
    }
   ],
   "source": [
    "df_calibration = pd.read_csv('.csv')\n",
    "df_calibration.head()"
   ]
  },
  {
   "cell_type": "markdown",
   "id": "f3f153c0",
   "metadata": {},
   "source": [
    "# Compute XYZ color"
   ]
  },
  {
   "cell_type": "code",
   "execution_count": 52,
   "id": "7985ec3b",
   "metadata": {},
   "outputs": [],
   "source": [
    "# add an empty columns\n",
    "df['X'] = np.nan\n",
    "df['Y'] = np.nan\n",
    "df['Z'] = np.nan\n",
    "df['x_color'] = np.nan\n",
    "df['y_color'] = np.nan\n",
    "\n",
    "for index, row in df.iterrows():\n",
    "    rgb = sRGBColor(row['R']/255, row['G']/255, row['B']/255)\n",
    "    xyz = convert_color(rgb, XYZColor, target_illuminant='d50')\n",
    "    df.at[index, 'X'] = xyz.xyz_x\n",
    "    df.at[index, 'Y'] = xyz.xyz_y\n",
    "    df.at[index, 'Z'] = xyz.xyz_z\n",
    "    S = xyz.xyz_x + xyz.xyz_y + xyz.xyz_z\n",
    "    df.at[index, 'x_color'] = xyz.xyz_x / S\n",
    "    df.at[index, 'y_color'] = xyz.xyz_y / S"
   ]
  },
  {
   "cell_type": "code",
   "execution_count": 53,
   "id": "edfbf56d",
   "metadata": {},
   "outputs": [],
   "source": [
    "# add an empty columns\n",
    "df_calibration['X'] = np.nan\n",
    "df_calibration['Y'] = np.nan\n",
    "df_calibration['Z'] = np.nan\n",
    "df_calibration['x'] = np.nan\n",
    "df_calibration['y'] = np.nan\n",
    "\n",
    "for index, row in df_calibration.iterrows():\n",
    "    rgb = sRGBColor(row['R']/255, row['G']/255, row['B']/255)\n",
    "    xyz = convert_color(rgb, XYZColor, target_illuminant='d50')\n",
    "    df_calibration.at[index, 'X'] = xyz.xyz_x\n",
    "    df_calibration.at[index, 'Y'] = xyz.xyz_y\n",
    "    df_calibration.at[index, 'Z'] = xyz.xyz_z\n",
    "    S = xyz.xyz_x + xyz.xyz_y + xyz.xyz_z\n",
    "    df_calibration.at[index, 'x'] = xyz.xyz_x / S\n",
    "    df_calibration.at[index, 'y'] = xyz.xyz_y / S"
   ]
  },
  {
   "cell_type": "markdown",
   "id": "68ff53be",
   "metadata": {},
   "source": [
    "# Chromaticity"
   ]
  },
  {
   "cell_type": "code",
   "execution_count": 54,
   "id": "9344dad4",
   "metadata": {},
   "outputs": [
    {
     "data": {
      "image/png": "[encoded data removed]",
      "text/plain": [
       "<Figure size 432x288 with 1 Axes>"
      ]
     },
     "metadata": {
      "image/png": {
       "height": 261,
       "width": 396
      },
      "needs_background": "light"
     },
     "output_type": "display_data"
    }
   ],
   "source": [
    "plt.plot(df['x_color'].values, df['y_color'].values, 'o', alpha=0.1, ms=1)\n",
    "plt.plot(df_calibration['x'].values, df_calibration['y'].values, 'x')\n",
    "\n",
    "for i, pH in enumerate(df_calibration['pH'].values):\n",
    "    plt.annotate('%.1f'%pH, (df_calibration['x'].values[i], df_calibration['y'].values[i]))\n",
    "    \n",
    "plt.ylabel('$y$')\n",
    "plt.xlabel('$x$');"
   ]
  },
  {
   "cell_type": "markdown",
   "id": "b4b2438d",
   "metadata": {},
   "source": [
    "# Calibrate\n",
    "\n",
    "Infer the coefficients $\\mathbf{X}=\\{X_0,X_1,X_2,Y_0,Y_1,Y_2\\}$ from the calibration data $\\{x_j,y_j,\\delta_j\\}$.  This is a linear regression problem."
   ]
  },
  {
   "cell_type": "code",
   "execution_count": 55,
   "id": "88f7f2b6-0e66-4305-b938-27462676f910",
   "metadata": {},
   "outputs": [
    {
     "name": "stdout",
     "output_type": "stream",
     "text": [
      "noise magnitude sigma = 0.001302\n",
      "X0 = 0.395379 +/- 0.000522\n",
      "X1 = -0.203821 +/- 0.003547\n",
      "X2 = 0.074538 +/- 0.003840\n",
      "Y0 = 0.417996 +/- 0.000522\n",
      "Y1 = -0.221124 +/- 0.003547\n",
      "Y2 = 0.053453 +/- 0.003840\n"
     ]
    }
   ],
   "source": [
    "pKa = 8.94 # reported value\n",
    "\n",
    "# calibration data\n",
    "xc = df_calibration['x'].values\n",
    "yc = df_calibration['y'].values\n",
    "deltac = 1 / (1 + 10**(pKa - df_calibration['pH'].values))\n",
    "M = xc.shape[0]\n",
    "\n",
    "## linear regression\n",
    "# design matrix: M x 3\n",
    "X = np.ones((M,3))\n",
    "X[:,1] = deltac\n",
    "X[:,2] = deltac**2\n",
    "\n",
    "# using scipy\n",
    "regx = LinearRegression(fit_intercept=False).fit(X, xc)\n",
    "regy = LinearRegression(fit_intercept=False).fit(X, yc)\n",
    "X0, X1, X2 = regx.coef_\n",
    "Y0, Y1, Y2 = regy.coef_\n",
    "\n",
    "# noise estimate\n",
    "x_fit = regx.predict(X)\n",
    "y_fit = regy.predict(X)\n",
    "sigmac2 = np.sum((xc-x_fit)**2 + (yc-y_fit)**2) / (2*M)\n",
    "print('noise magnitude sigma = %f'%np.sqrt(sigmac2))\n",
    "\n",
    "# covariance\n",
    "invSigma = X.T@X / sigmac2\n",
    "Sigma = np.linalg.inv(invSigma)\n",
    "\n",
    "print('X0 = %f +/- %f'%(X0, np.sqrt(Sigma[0,0])))\n",
    "print('X1 = %f +/- %f'%(X1, np.sqrt(Sigma[1,1])))\n",
    "print('X2 = %f +/- %f'%(X2, np.sqrt(Sigma[2,2])))\n",
    "print('Y0 = %f +/- %f'%(Y0, np.sqrt(Sigma[0,0])))\n",
    "print('Y1 = %f +/- %f'%(Y1, np.sqrt(Sigma[1,1])))\n",
    "print('Y2 = %f +/- %f'%(Y2, np.sqrt(Sigma[2,2])))"
   ]
  },
  {
   "cell_type": "code",
   "execution_count": 56,
   "id": "9e10b198-312e-4e4e-b34a-70c5ea7cc974",
   "metadata": {},
   "outputs": [
    {
     "data": {
      "image/png": "[encoded data removed]",
      "text/plain": [
       "<Figure size 432x288 with 1 Axes>"
      ]
     },
     "metadata": {
      "image/png": {
       "height": 263,
       "width": 398
      },
      "needs_background": "light"
     },
     "output_type": "display_data"
    }
   ],
   "source": [
    "# simulated data\n",
    "samples = 80\n",
    "points = 81 # per sample\n",
    "Xsamples = np.random.multivariate_normal(regx.coef_, Sigma, samples)\n",
    "Ysamples = np.random.multivariate_normal(regy.coef_, Sigma, samples)\n",
    "delta = np.random.rand(points,samples)\n",
    "xsamples = Xsamples[None,:,0]*delta**0 + Xsamples[None,:,1]*delta**1 + Xsamples[None,:,2]*delta**2\n",
    "ysamples = Ysamples[None,:,0]*delta**0 + Ysamples[None,:,1]*delta**1 + Ysamples[None,:,2]*delta**2\n",
    "\n",
    "plt.scatter(np.ravel(xsamples), np.ravel(ysamples), c=np.ravel(delta),\n",
    "           s = 1, alpha = 0.1);\n",
    "plt.plot(df_calibration['x'].values, df_calibration['y'].values, 'ko', mec='w')\n",
    "\n",
    "plt.ylabel('$y$')\n",
    "plt.xlabel('$x$');"
   ]
  },
  {
   "cell_type": "markdown",
   "id": "f0aefa2f-aa00-41a9-a71f-a2fa3628cec2",
   "metadata": {},
   "source": [
    "# Estimate deprotonation $\\hat{\\delta}$\n",
    "\n",
    "Given the coefficients $\\mathbf{X}$, the log-posterior for the deprotonation fraction is \n",
    "\n",
    "\\begin{equation}\n",
    "     \\ln p(\\delta\\mid x,y , \\mathbf{X}) = \\text{constant} - \\frac{1}{2 \\sigma^2} \\Big[ \\big (x - (X_0 + X_1 \\delta + X_2 \\delta^2)\\big)^2  + \\big(y - (Y_0 + Y_1 \\delta + Y_2 \\delta^2)\\big)^2 \\Big]\n",
    "\\end{equation}\n",
    "\n",
    "This is a quartic polynomial.  Differentiating yields a cubic polynomial.  We want the relevant root of this polynomial."
   ]
  },
  {
   "cell_type": "code",
   "execution_count": 57,
   "id": "7902a8c8-0df9-4624-a22b-c3fd9fe44bf8",
   "metadata": {},
   "outputs": [],
   "source": [
    "def calc_delta_hat(x,y,X) : \n",
    "    X0,X1,X2,Y0,Y1,Y2 = X\n",
    "\n",
    "    # most probable delta (solve this 3th order polynomial)\n",
    "    dp = np.zeros((4,)) # cubic coefficients\n",
    "    dp[0] = -2*(X2**2 + Y2**2) \n",
    "    dp[1] = -3*(X1*X2 + Y1*Y2)\n",
    "    dp[2] = -(X1**2 + 2*X2*(X0-x) + Y1**2 + 2*Y2*(Y0-y)) \n",
    "    dp[3] = -(X1*(X0-x) + Y1*(Y0-y)) \n",
    "    out = np.roots(dp)\n",
    "    \n",
    "    # differentiate\n",
    "    ddp = np.polyval(np.polyder(dp), out)\n",
    "    \n",
    "    # select maximum\n",
    "    idx = (ddp.real < 0) # should be a maximum\n",
    "    dist2 = (out - 0.5)**2 # should be in the range from 0-1\n",
    "    j = np.argmin(dist2[idx])\n",
    "    return out[idx].real[j]"
   ]
  },
  {
   "cell_type": "code",
   "execution_count": 58,
   "id": "638f614c-9a68-490f-8e53-9e4e5549342c",
   "metadata": {},
   "outputs": [],
   "source": [
    "xk = df['x_color'].values\n",
    "yk = df['y_color'].values\n",
    "deltak = np.zeros(xk.shape)\n",
    "\n",
    "X = np.array([X0,X1,X2,Y0,Y1,Y2])\n",
    "for k in range(xk.shape[0]) : \n",
    "    deltak[k] = calc_delta_hat(xk[k],yk[k],X)"
   ]
  },
  {
   "cell_type": "code",
   "execution_count": 59,
   "id": "8669d29b-f0ce-4b49-ae50-ad838b434a3a",
   "metadata": {},
   "outputs": [
    {
     "data": {
      "text/plain": [
       "Text(0, 0.5, '$y$')"
      ]
     },
     "execution_count": 59,
     "metadata": {},
     "output_type": "execute_result"
    },
    {
     "data": {
      "image/png": "[encoded data removed]",
      "text/plain": [
       "<Figure size 340.157x226.772 with 2 Axes>"
      ]
     },
     "metadata": {
      "image/png": {
       "height": 155,
       "width": 243
      },
      "needs_background": "light"
     },
     "output_type": "display_data"
    }
   ],
   "source": [
    "from mpl_toolkits.axes_grid1 import make_axes_locatable\n",
    "\n",
    "## declare figure \n",
    "fig,ax = plt.subplots()\n",
    "\n",
    "# sizing & plot parameters\n",
    "cm = 2.54\n",
    "width = 2 * 6 / cm\n",
    "height = 2 * 4 / cm\n",
    "fig.set_size_inches(width, height)\n",
    "ax.set_position([0.25, 0.25, 0.5, 0.5])\n",
    "\n",
    "sc = ax.scatter(xk, yk, c=deltak, vmax=1, vmin=0, s=5, linewidths=2)\n",
    "ax.plot(np.sort(x_fit),np.sort(y_fit),'w-', lw=2)\n",
    "ax.plot(np.sort(x_fit),np.sort(y_fit),'-', lw=1, color=cmap(0.2))\n",
    "\n",
    "ax.plot(df_calibration['x'].values, df_calibration['y'].values, \n",
    "        'o', color=cmap(0.2), ms=4, mew=1, mfc='w')\n",
    "\n",
    "# create an axes on the right side of ax. The width of cax will be 5%\n",
    "# of ax and the padding between cax and ax will be fixed at 0.05 inch.\n",
    "divider = make_axes_locatable(ax)\n",
    "cax = divider.append_axes(\"right\", size=\"3%\", pad=\"2%\")\n",
    "cbar = plt.colorbar(sc, cax=cax)\n",
    "cax.set_yticks(np.array([0,0.2,0.4,0.6,0.8, 1]))\n",
    "cax.set_ylim(0,1)\n",
    "cbar.set_label('$\\delta$', fontsize=10, rotation=0)\n",
    "cax.tick_params(direction=\"in\", length=2, width = 0.5, axis='both', which='major', labelsize=8)\n",
    "\n",
    "ax.tick_params(direction=\"in\", length=2, width = 0.5, axis='both', which='major', labelsize=8)\n",
    "ax.set_xlabel('$x$', fontsize=10)\n",
    "ax.set_ylabel('$y$', fontsize=10)\n",
    "\n",
    "#plt.savefig('23.12.22-23 capillary data vs 24.08.21 calibration both settings gamma = 0.png', dpi=600)\n",
    "# plt.savefig('chamber1.pdf', dpi=600)"
   ]
  },
  {
   "cell_type": "code",
   "execution_count": 60,
   "id": "3a0c33ef-5b6d-4b3c-a9e2-4dbc0e8062b7",
   "metadata": {},
   "outputs": [
    {
     "data": {
      "image/png": "[encoded data removed]",
      "text/plain": [
       "<Figure size 432x288 with 1 Axes>"
      ]
     },
     "metadata": {
      "image/png": {
       "height": 261,
       "width": 370
      },
      "needs_background": "light"
     },
     "output_type": "display_data"
    }
   ],
   "source": [
    "bins = np.linspace(deltak.min(), deltak.max(),100)\n",
    "plt.hist(deltak, bins=bins, alpha=0.5)\n",
    "plt.xlabel('$\\delta$');"
   ]
  },
  {
   "cell_type": "markdown",
   "id": "d8a87ac7-8f37-459b-b193-deb45530bc6a",
   "metadata": {},
   "source": [
    "## Estimate $\\sigma^2$"
   ]
  },
  {
   "cell_type": "code",
   "execution_count": 61,
   "id": "74fe912a-8c56-4ccf-8f78-baaa502f18c9",
   "metadata": {},
   "outputs": [
    {
     "name": "stdout",
     "output_type": "stream",
     "text": [
      "Error based on capillary = 0.001686\n",
      "Error based on calibration = 0.001302\n",
      "Total error = 0.002130\n"
     ]
    },
    {
     "data": {
      "image/png": "[encoded data removed]",
      "text/plain": [
       "<Figure size 432x288 with 1 Axes>"
      ]
     },
     "metadata": {
      "image/png": {
       "height": 248,
       "width": 375
      },
      "needs_background": "light"
     },
     "output_type": "display_data"
    }
   ],
   "source": [
    "idx = (deltak == deltak)\n",
    "plt.plot(xk[idx], X0 + X1*deltak[idx] + X2*deltak[idx]**2, '.', alpha=0.1, mew=0)\n",
    "plt.plot(yk[idx], Y0 + Y1*deltak[idx] + Y2*deltak[idx]**2, '.', alpha=0.1, mew=0)\n",
    "plt.plot(np.linspace(0.2,0.5,100), np.linspace(0.2,0.5,100), 'k--', lw=1)\n",
    "    \n",
    "sigma2 = np.nanmean( (xk - (X0 + X1*deltak + X2*deltak**2))**2 + (yk - (Y0 + Y1*deltak + Y2*deltak**2))**2 )\n",
    "print('Error based on capillary = %f'%np.sqrt(sigma2))      \n",
    "print('Error based on calibration = %f'%np.sqrt(sigmac2))\n",
    "sigma2_tot = sigma2 + sigmac2\n",
    "print('Total error = %f'%np.sqrt(sigma2_tot))    "
   ]
  },
  {
   "cell_type": "markdown",
   "id": "0c8ba166-3387-4f5f-b0c7-87e5a488d086",
   "metadata": {},
   "source": [
    "# pH vs time with uncertainty"
   ]
  },
  {
   "cell_type": "code",
   "execution_count": 62,
   "id": "c04ba75a-6f6b-4f3c-86f6-3d3fd447c104",
   "metadata": {},
   "outputs": [],
   "source": [
    "# Uncertainty estimate\n",
    "p = np.zeros((3,deltak.shape[0])) \n",
    "p[0,:] = -6*(X2**2 + Y2**2) / sigma2_tot\n",
    "p[1,:] = -6*(X1*X2 + Y1*Y2) / sigma2_tot\n",
    "p[2,:] = -(X1**2 + 2*X2*(X0-xk) + Y1**2 + 2*Y2*(Y0-yk)) / sigma2_tot\n",
    "epsilonk = np.sqrt(-1 / np.polyval(p, deltak) )\n",
    "\n",
    "df['delta'] = deltak\n",
    "df['epsilon'] = epsilonk\n",
    "\n",
    "# let's omit values certain values\n",
    "idx = (deltak > 0) & (deltak < 1)\n",
    "pH = np.zeros(deltak.shape)\n",
    "pH[idx] = pKa + np.log(deltak[idx]/(1 - deltak[idx])) / np.log(10)\n",
    "pH[np.logical_not(idx)] = np.nan\n",
    "\n",
    "# let's omit values certain values\n",
    "idx = (deltak - epsilonk > 0) & (deltak + epsilonk < 1)\n",
    "pHlow = np.zeros(deltak.shape)\n",
    "pHhigh = np.zeros(deltak.shape)\n",
    "pHlow[idx] = pKa + np.log((deltak[idx]-epsilonk[idx])/(1 - deltak[idx] + epsilonk[idx])) / np.log(10)\n",
    "pHhigh[idx] = pKa + np.log((deltak[idx]+epsilonk[idx])/(1 - deltak[idx] - epsilonk[idx])) / np.log(10)\n",
    "pHlow[np.logical_not(idx)] = np.nan\n",
    "pHhigh[np.logical_not(idx)] = np.nan\n",
    "\n",
    "df['pH'] = pH\n",
    "df['pHlow'] = pHlow\n",
    "df['pHhigh'] = pHhigh"
   ]
  },
  {
   "cell_type": "code",
   "execution_count": 63,
   "id": "b03646da-d543-4209-b2f7-9f7f55c11980",
   "metadata": {},
   "outputs": [],
   "source": [
    "df.to_csv('.csv')"
   ]
  },
  {
   "cell_type": "code",
   "execution_count": 64,
   "id": "da352510",
   "metadata": {},
   "outputs": [
    {
     "data": {
      "text/html": [
       "<div>\n",
       "<style scoped>\n",
       "    .dataframe tbody tr th:only-of-type {\n",
       "        vertical-align: middle;\n",
       "    }\n",
       "\n",
       "    .dataframe tbody tr th {\n",
       "        vertical-align: top;\n",
       "    }\n",
       "\n",
       "    .dataframe thead th {\n",
       "        text-align: right;\n",
       "    }\n",
       "</style>\n",
       "<table border=\"1\" class=\"dataframe\">\n",
       "  <thead>\n",
       "    <tr style=\"text-align: right;\">\n",
       "      <th></th>\n",
       "      <th>bicarbonate</th>\n",
       "      <th>R</th>\n",
       "      <th>G</th>\n",
       "      <th>B</th>\n",
       "      <th>X</th>\n",
       "      <th>Y</th>\n",
       "      <th>Z</th>\n",
       "      <th>x_color</th>\n",
       "      <th>y_color</th>\n",
       "      <th>delta</th>\n",
       "      <th>epsilon</th>\n",
       "      <th>pH</th>\n",
       "      <th>pHlow</th>\n",
       "      <th>pHhigh</th>\n",
       "    </tr>\n",
       "  </thead>\n",
       "  <tbody>\n",
       "    <tr>\n",
       "      <th>0</th>\n",
       "      <td>1.0</td>\n",
       "      <td>128.330141</td>\n",
       "      <td>124.857243</td>\n",
       "      <td>99.603990</td>\n",
       "      <td>0.191510</td>\n",
       "      <td>0.202612</td>\n",
       "      <td>0.113158</td>\n",
       "      <td>0.377522</td>\n",
       "      <td>0.399409</td>\n",
       "      <td>0.087973</td>\n",
       "      <td>0.007475</td>\n",
       "      <td>7.924342</td>\n",
       "      <td>7.882234</td>\n",
       "      <td>7.963332</td>\n",
       "    </tr>\n",
       "    <tr>\n",
       "      <th>1</th>\n",
       "      <td>2.0</td>\n",
       "      <td>129.726733</td>\n",
       "      <td>126.286001</td>\n",
       "      <td>99.674976</td>\n",
       "      <td>0.195740</td>\n",
       "      <td>0.207415</td>\n",
       "      <td>0.113859</td>\n",
       "      <td>0.378596</td>\n",
       "      <td>0.401179</td>\n",
       "      <td>0.080855</td>\n",
       "      <td>0.007441</td>\n",
       "      <td>7.884320</td>\n",
       "      <td>7.838892</td>\n",
       "      <td>7.926083</td>\n",
       "    </tr>\n",
       "    <tr>\n",
       "      <th>2</th>\n",
       "      <td>3.0</td>\n",
       "      <td>129.572655</td>\n",
       "      <td>126.104204</td>\n",
       "      <td>99.664930</td>\n",
       "      <td>0.195236</td>\n",
       "      <td>0.206820</td>\n",
       "      <td>0.113769</td>\n",
       "      <td>0.378493</td>\n",
       "      <td>0.400950</td>\n",
       "      <td>0.081691</td>\n",
       "      <td>0.007445</td>\n",
       "      <td>7.889187</td>\n",
       "      <td>7.844180</td>\n",
       "      <td>7.930600</td>\n",
       "    </tr>\n",
       "    <tr>\n",
       "      <th>3</th>\n",
       "      <td>4.0</td>\n",
       "      <td>123.960978</td>\n",
       "      <td>121.062458</td>\n",
       "      <td>93.649545</td>\n",
       "      <td>0.177428</td>\n",
       "      <td>0.188768</td>\n",
       "      <td>0.100723</td>\n",
       "      <td>0.379997</td>\n",
       "      <td>0.404285</td>\n",
       "      <td>0.069572</td>\n",
       "      <td>0.007387</td>\n",
       "      <td>7.813754</td>\n",
       "      <td>7.761572</td>\n",
       "      <td>7.861039</td>\n",
       "    </tr>\n",
       "    <tr>\n",
       "      <th>4</th>\n",
       "      <td>5.0</td>\n",
       "      <td>123.940980</td>\n",
       "      <td>121.132275</td>\n",
       "      <td>93.588663</td>\n",
       "      <td>0.177467</td>\n",
       "      <td>0.188914</td>\n",
       "      <td>0.100638</td>\n",
       "      <td>0.380000</td>\n",
       "      <td>0.404510</td>\n",
       "      <td>0.068985</td>\n",
       "      <td>0.007384</td>\n",
       "      <td>7.809797</td>\n",
       "      <td>7.757200</td>\n",
       "      <td>7.857417</td>\n",
       "    </tr>\n",
       "    <tr>\n",
       "      <th>5</th>\n",
       "      <td>6.0</td>\n",
       "      <td>123.399468</td>\n",
       "      <td>120.568607</td>\n",
       "      <td>93.095712</td>\n",
       "      <td>0.175732</td>\n",
       "      <td>0.187048</td>\n",
       "      <td>0.099557</td>\n",
       "      <td>0.380094</td>\n",
       "      <td>0.404571</td>\n",
       "      <td>0.068611</td>\n",
       "      <td>0.007382</td>\n",
       "      <td>7.807260</td>\n",
       "      <td>7.754393</td>\n",
       "      <td>7.855097</td>\n",
       "    </tr>\n",
       "  </tbody>\n",
       "</table>\n",
       "</div>"
      ],
      "text/plain": [
       "   bicarbonate           R           G          B         X         Y  \\\n",
       "0          1.0  128.330141  124.857243  99.603990  0.191510  0.202612   \n",
       "1          2.0  129.726733  126.286001  99.674976  0.195740  0.207415   \n",
       "2          3.0  129.572655  126.104204  99.664930  0.195236  0.206820   \n",
       "3          4.0  123.960978  121.062458  93.649545  0.177428  0.188768   \n",
       "4          5.0  123.940980  121.132275  93.588663  0.177467  0.188914   \n",
       "5          6.0  123.399468  120.568607  93.095712  0.175732  0.187048   \n",
       "\n",
       "          Z   x_color   y_color     delta   epsilon        pH     pHlow  \\\n",
       "0  0.113158  0.377522  0.399409  0.087973  0.007475  7.924342  7.882234   \n",
       "1  0.113859  0.378596  0.401179  0.080855  0.007441  7.884320  7.838892   \n",
       "2  0.113769  0.378493  0.400950  0.081691  0.007445  7.889187  7.844180   \n",
       "3  0.100723  0.379997  0.404285  0.069572  0.007387  7.813754  7.761572   \n",
       "4  0.100638  0.380000  0.404510  0.068985  0.007384  7.809797  7.757200   \n",
       "5  0.099557  0.380094  0.404571  0.068611  0.007382  7.807260  7.754393   \n",
       "\n",
       "     pHhigh  \n",
       "0  7.963332  \n",
       "1  7.926083  \n",
       "2  7.930600  \n",
       "3  7.861039  \n",
       "4  7.857417  \n",
       "5  7.855097  "
      ]
     },
     "execution_count": 64,
     "metadata": {},
     "output_type": "execute_result"
    }
   ],
   "source": [
    "df"
   ]
  },
  {
   "cell_type": "code",
   "execution_count": null,
   "id": "7ddfadad",
   "metadata": {},
   "outputs": [],
   "source": []
  }
 ],
 "metadata": {
  "kernelspec": {
   "display_name": "Python 3 (ipykernel)",
   "language": "python",
   "name": "python3"
  },
  "language_info": {
   "codemirror_mode": {
    "name": "ipython",
    "version": 3
   },
   "file_extension": ".py",
   "mimetype": "text/x-python",
   "name": "python",
   "nbconvert_exporter": "python",
   "pygments_lexer": "ipython3",
   "version": "3.9.12"
  }
 },
 "nbformat": 4,
 "nbformat_minor": 5
}
