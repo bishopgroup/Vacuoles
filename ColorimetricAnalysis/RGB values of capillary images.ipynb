{
 "cells": [
  {
   "cell_type": "code",
   "execution_count": 1,
   "id": "182b5279",
   "metadata": {},
   "outputs": [],
   "source": [
    "import numpy as np\n",
    "import pandas as pd\n",
    "import pims\n",
    "\n",
    "%config InlineBackend.figure_format='retina'"
   ]
  },
  {
   "cell_type": "markdown",
   "id": "377a0d66",
   "metadata": {},
   "source": [
    "## RGB values of capillary imaes with known pH"
   ]
  },
  {
   "cell_type": "code",
   "execution_count": 1,
   "id": "72f40501",
   "metadata": {},
   "outputs": [],
   "source": [
    "## Read microscopy images of solutions with known pH values and extract their corresponding RGB color values for calibration."
   ]
  },
  {
   "cell_type": "markdown",
   "id": "82546a06",
   "metadata": {},
   "source": [
    "## pH 10"
   ]
  },
  {
   "cell_type": "code",
   "execution_count": 2,
   "id": "81ef1b73",
   "metadata": {},
   "outputs": [
    {
     "name": "stdout",
     "output_type": "stream",
     "text": [
      "[ 77.18475292  86.37562203 124.2917501  254.99994796]\n"
     ]
    }
   ],
   "source": [
    "path = 'settings 1/pH 10 capillary 1 image i.2024-08-21-17-12-09/'\n",
    "image = pims.open(path+'pH 10 capillary 1 image i_Bottom Slide_D_p00_0_A01f00d4.PNG')\n",
    "rgb_10_1 = np.mean(image[0], axis=(0,1))\n",
    "print(rgb_10_1)"
   ]
  },
  {
   "cell_type": "code",
   "execution_count": 3,
   "id": "b7f9ac3b",
   "metadata": {},
   "outputs": [
    {
     "name": "stdout",
     "output_type": "stream",
     "text": [
      "[ 70.59138209  78.99172067 114.16843527 254.99994796]\n"
     ]
    }
   ],
   "source": [
    "path = 'settings 1/pH 10 capillary 1 image ii.2024-08-21-17-13-24/'\n",
    "image = pims.open(path+'pH 10 capillary 1 image ii_Bottom Slide_D_p00_0_A01f01d4.PNG')\n",
    "rgb_10_2 = np.mean(image[0], axis=(0,1))\n",
    "print(rgb_10_2)"
   ]
  },
  {
   "cell_type": "code",
   "execution_count": 4,
   "id": "c24c3f06",
   "metadata": {},
   "outputs": [
    {
     "name": "stdout",
     "output_type": "stream",
     "text": [
      "[ 73.40425444  82.1685629  118.62119505 254.99994796]\n"
     ]
    }
   ],
   "source": [
    "path = 'settings 1/pH 10 capillary 1 image iii.2024-08-21-17-13-34/'\n",
    "image = pims.open(path+'pH 10 capillary 1 image iii_Bottom Slide_D_p00_0_A01f02d4.PNG')\n",
    "rgb_10_3 = np.mean(image[0], axis=(0,1))\n",
    "print(rgb_10_3)"
   ]
  },
  {
   "cell_type": "code",
   "execution_count": 5,
   "id": "e44d974f",
   "metadata": {},
   "outputs": [
    {
     "data": {
      "text/plain": [
       "array([[ 77.18475292,  86.37562203, 124.2917501 , 254.99994796],\n",
       "       [ 70.59138209,  78.99172067, 114.16843527, 254.99994796],\n",
       "       [ 73.40425444,  82.1685629 , 118.62119505, 254.99994796]])"
      ]
     },
     "execution_count": 5,
     "metadata": {},
     "output_type": "execute_result"
    }
   ],
   "source": [
    "rgb_10 = np.row_stack((rgb_10_1, rgb_10_2, rgb_10_3))\n",
    "rgb_10"
   ]
  },
  {
   "cell_type": "markdown",
   "id": "9d48ebe3",
   "metadata": {},
   "source": [
    "## pH 9.5"
   ]
  },
  {
   "cell_type": "code",
   "execution_count": 6,
   "id": "ea9907f5",
   "metadata": {},
   "outputs": [
    {
     "name": "stdout",
     "output_type": "stream",
     "text": [
      "[ 79.85386412  88.42678833 120.77131617 254.99994796]\n"
     ]
    }
   ],
   "source": [
    "path = 'settings 1/pH 9.5 capillary 1 image i.2024-08-21-17-35-59/'\n",
    "image = pims.open(path+'pH 9.5 capillary 1 image i_Bottom Slide_D_p00_0_A01f16d4.PNG')\n",
    "rgb_95_1 = np.mean(image[0], axis=(0,1))\n",
    "print(rgb_95_1)"
   ]
  },
  {
   "cell_type": "code",
   "execution_count": 7,
   "id": "7ea1cf8b",
   "metadata": {},
   "outputs": [
    {
     "name": "stdout",
     "output_type": "stream",
     "text": [
      "[ 78.41865025  86.85279137 119.17462455 254.99994796]\n"
     ]
    }
   ],
   "source": [
    "path = 'settings 1/pH 9.5 capillary 1 image ii.2024-08-21-17-36-14/'\n",
    "image = pims.open(path+'pH 9.5 capillary 1 image ii_Bottom Slide_D_p00_0_A01f17d4.PNG')\n",
    "rgb_95_2 = np.mean(image[0], axis=(0,1))\n",
    "print(rgb_95_2)"
   ]
  },
  {
   "cell_type": "code",
   "execution_count": 8,
   "id": "716be9c8",
   "metadata": {},
   "outputs": [
    {
     "name": "stdout",
     "output_type": "stream",
     "text": [
      "[ 80.08312847  88.71496425 121.54752522 254.99994796]\n"
     ]
    }
   ],
   "source": [
    "path = 'settings 1/pH 9.5 capillary 1 image iii.2024-08-21-17-36-28/'\n",
    "image = pims.open(path+'pH 9.5 capillary 1 image iii_Bottom Slide_D_p00_0_A01f18d4.PNG')\n",
    "rgb_95_3 = np.mean(image[0], axis=(0,1))\n",
    "print(rgb_95_3)"
   ]
  },
  {
   "cell_type": "code",
   "execution_count": 9,
   "id": "4eedb056",
   "metadata": {},
   "outputs": [
    {
     "data": {
      "text/plain": [
       "array([[ 79.85386412,  88.42678833, 120.77131617, 254.99994796],\n",
       "       [ 78.41865025,  86.85279137, 119.17462455, 254.99994796],\n",
       "       [ 80.08312847,  88.71496425, 121.54752522, 254.99994796]])"
      ]
     },
     "execution_count": 9,
     "metadata": {},
     "output_type": "execute_result"
    }
   ],
   "source": [
    "rgb_95 = np.row_stack((rgb_95_1, rgb_95_2, rgb_95_3))\n",
    "rgb_95"
   ]
  },
  {
   "cell_type": "markdown",
   "id": "699a423b",
   "metadata": {},
   "source": [
    "## pH 9"
   ]
  },
  {
   "cell_type": "code",
   "execution_count": 10,
   "id": "a8c9ff88",
   "metadata": {},
   "outputs": [
    {
     "name": "stdout",
     "output_type": "stream",
     "text": [
      "[ 89.8124904   96.30634603 115.84273146 254.99994796]\n"
     ]
    }
   ],
   "source": [
    "path = 'settings 1/pH 9 capillary 1 image i.2024-08-21-17-15-00/'\n",
    "image = pims.open(path+'pH 9 capillary 1 image i_Bottom Slide_D_p00_0_A01f03d4.PNG')\n",
    "rgb_9_1 = np.mean(image[0], axis=(0,1))\n",
    "print(rgb_9_1)"
   ]
  },
  {
   "cell_type": "code",
   "execution_count": 11,
   "id": "6433da7a",
   "metadata": {},
   "outputs": [
    {
     "name": "stdout",
     "output_type": "stream",
     "text": [
      "[ 91.18764002  97.73737671 116.85329383 254.99994796]\n"
     ]
    }
   ],
   "source": [
    "path = 'settings 1/pH 9 capillary 1 image ii.2024-08-21-17-15-14/'\n",
    "image = pims.open(path+'pH 9 capillary 1 image ii_Bottom Slide_D_p00_0_A01f04d4.PNG')\n",
    "rgb_9_2 = np.mean(image[0], axis=(0,1))\n",
    "print(rgb_9_2)"
   ]
  },
  {
   "cell_type": "code",
   "execution_count": 12,
   "id": "49e5fa0d",
   "metadata": {},
   "outputs": [
    {
     "name": "stdout",
     "output_type": "stream",
     "text": [
      "[ 89.67877707  96.09546336 115.20996543 254.99994796]\n"
     ]
    }
   ],
   "source": [
    "path = 'settings 1/pH 9 capillary 1 image iii.2024-08-21-17-15-27/'\n",
    "image = pims.open(path+'pH 9 capillary 1 image iii_Bottom Slide_D_p00_0_A01f05d4.PNG')\n",
    "rgb_9_3 = np.mean(image[0], axis=(0,1))\n",
    "print(rgb_9_3)"
   ]
  },
  {
   "cell_type": "code",
   "execution_count": 13,
   "id": "eae1af2e",
   "metadata": {},
   "outputs": [
    {
     "data": {
      "text/plain": [
       "array([[ 89.8124904 ,  96.30634603, 115.84273146, 254.99994796],\n",
       "       [ 91.18764002,  97.73737671, 116.85329383, 254.99994796],\n",
       "       [ 89.67877707,  96.09546336, 115.20996543, 254.99994796]])"
      ]
     },
     "execution_count": 13,
     "metadata": {},
     "output_type": "execute_result"
    }
   ],
   "source": [
    "rgb_9 = np.row_stack((rgb_9_1, rgb_9_2, rgb_9_3))\n",
    "rgb_9"
   ]
  },
  {
   "cell_type": "markdown",
   "id": "39280e0d",
   "metadata": {},
   "source": [
    "## pH 8.5"
   ]
  },
  {
   "cell_type": "code",
   "execution_count": 14,
   "id": "6b72eff1",
   "metadata": {},
   "outputs": [
    {
     "name": "stdout",
     "output_type": "stream",
     "text": [
      "[106.10575622 107.61250341 101.98179768 254.99994796]\n"
     ]
    }
   ],
   "source": [
    "path = 'settings 1/pH 8.5 capillary 1 image i.2024-08-21-17-17-23/'\n",
    "image = pims.open(path+'pH 8.5 capillary 1 image i_Bottom Slide_D_p00_0_A01f06d4.PNG')\n",
    "rgb_85_1 = np.mean(image[0], axis=(0,1))\n",
    "print(rgb_85_1)"
   ]
  },
  {
   "cell_type": "code",
   "execution_count": 15,
   "id": "7d29cbc1",
   "metadata": {},
   "outputs": [
    {
     "name": "stdout",
     "output_type": "stream",
     "text": [
      "[106.90805598 108.44517682 102.34877113 254.99994796]\n"
     ]
    }
   ],
   "source": [
    "path = 'settings 1/pH 8.5 capillary 1 image ii.2024-08-21-17-17-33/'\n",
    "image = pims.open(path+'pH 8.5 capillary 1 image ii_Bottom Slide_D_p00_0_A01f07d4.PNG')\n",
    "rgb_85_2 = np.mean(image[0], axis=(0,1))\n",
    "print(rgb_85_2)"
   ]
  },
  {
   "cell_type": "code",
   "execution_count": 16,
   "id": "85593ce4",
   "metadata": {},
   "outputs": [
    {
     "name": "stdout",
     "output_type": "stream",
     "text": [
      "[109.81172433 111.40805598 105.37455733 254.99994796]\n"
     ]
    }
   ],
   "source": [
    "path = 'settings 1/pH 8.5 capillary 1 image iii.2024-08-21-17-17-55/'\n",
    "image = pims.open(path+'pH 8.5 capillary 1 image iii_Bottom Slide_D_p00_0_A01f09d4.PNG')\n",
    "rgb_85_3 = np.mean(image[0], axis=(0,1))\n",
    "print(rgb_85_3)"
   ]
  },
  {
   "cell_type": "code",
   "execution_count": 17,
   "id": "f5433c47",
   "metadata": {},
   "outputs": [
    {
     "data": {
      "text/plain": [
       "array([[106.10575622, 107.61250341, 101.98179768, 254.99994796],\n",
       "       [106.90805598, 108.44517682, 102.34877113, 254.99994796],\n",
       "       [109.81172433, 111.40805598, 105.37455733, 254.99994796]])"
      ]
     },
     "execution_count": 17,
     "metadata": {},
     "output_type": "execute_result"
    }
   ],
   "source": [
    "rgb_85 = np.row_stack((rgb_85_1, rgb_85_2, rgb_85_3))\n",
    "rgb_85"
   ]
  },
  {
   "cell_type": "markdown",
   "id": "cec1da5b",
   "metadata": {},
   "source": [
    "## pH 8"
   ]
  },
  {
   "cell_type": "code",
   "execution_count": 18,
   "id": "ae5c15ca",
   "metadata": {},
   "outputs": [
    {
     "name": "stdout",
     "output_type": "stream",
     "text": [
      "[120.94736258 119.04650172  99.83216848 254.99994796]\n"
     ]
    }
   ],
   "source": [
    "path = 'settings 1/pH 8 capillary 1 image i.2024-08-21-17-19-33/'\n",
    "image = pims.open(path+'pH 8 capillary 1 image i_Bottom Slide_D_p00_0_A01f10d4.PNG')\n",
    "rgb_8_1 = np.mean(image[0], axis=(0,1))\n",
    "print(rgb_8_1)"
   ]
  },
  {
   "cell_type": "code",
   "execution_count": 19,
   "id": "cf148f27",
   "metadata": {},
   "outputs": [
    {
     "name": "stdout",
     "output_type": "stream",
     "text": [
      "[125.42442258 123.37337338 102.44742919 254.99994796]\n"
     ]
    }
   ],
   "source": [
    "path = 'settings 1/pH 8 capillary 1 image ii.2024-08-21-17-19-47/'\n",
    "image = pims.open(path+'pH 8 capillary 1 image ii_Bottom Slide_D_p00_0_A01f11d4.PNG')\n",
    "rgb_8_2 = np.mean(image[0], axis=(0,1))\n",
    "print(rgb_8_2)"
   ]
  },
  {
   "cell_type": "code",
   "execution_count": 20,
   "id": "662494ee",
   "metadata": {},
   "outputs": [
    {
     "name": "stdout",
     "output_type": "stream",
     "text": [
      "[126.99030686 124.83315759 103.37429495 254.99994796]\n"
     ]
    }
   ],
   "source": [
    "path = 'settings 1/pH 8 capillary 1 image iii.2024-08-21-17-20-01/'\n",
    "image = pims.open(path+'pH 8 capillary 1 image iii_Bottom Slide_D_p00_0_A01f12d4.PNG')\n",
    "rgb_8_3 = np.mean(image[0], axis=(0,1))\n",
    "print(rgb_8_3)"
   ]
  },
  {
   "cell_type": "code",
   "execution_count": 21,
   "id": "5fea7c0d",
   "metadata": {},
   "outputs": [
    {
     "data": {
      "text/plain": [
       "array([[120.94736258, 119.04650172,  99.83216848, 254.99994796],\n",
       "       [125.42442258, 123.37337338, 102.44742919, 254.99994796],\n",
       "       [126.99030686, 124.83315759, 103.37429495, 254.99994796]])"
      ]
     },
     "execution_count": 21,
     "metadata": {},
     "output_type": "execute_result"
    }
   ],
   "source": [
    "rgb_8 = np.row_stack((rgb_8_1, rgb_8_2, rgb_8_3))\n",
    "rgb_8"
   ]
  },
  {
   "cell_type": "markdown",
   "id": "9070e52e",
   "metadata": {},
   "source": [
    "## pH 7.5"
   ]
  },
  {
   "cell_type": "code",
   "execution_count": 22,
   "id": "e58ca080",
   "metadata": {},
   "outputs": [
    {
     "name": "stdout",
     "output_type": "stream",
     "text": [
      "[137.40178399 132.84794744 102.88632007 254.99994796]\n"
     ]
    }
   ],
   "source": [
    "path = 'settings 1/pH 7.5 capillary 1 image i.2024-08-21-17-23-35/'\n",
    "image = pims.open(path+'pH 7.5 capillary 1 image i_Bottom Slide_D_p00_0_A01f13d4.PNG')\n",
    "rgb_75_1 = np.mean(image[0], axis=(0,1))\n",
    "print(rgb_75_1)"
   ]
  },
  {
   "cell_type": "code",
   "execution_count": 23,
   "id": "50ff88b5",
   "metadata": {},
   "outputs": [
    {
     "name": "stdout",
     "output_type": "stream",
     "text": [
      "[136.46910624 131.99985038 101.91378711 254.99994796]\n"
     ]
    }
   ],
   "source": [
    "path = 'settings 1/pH 7.5 capillary 1 image ii.2024-08-21-17-23-50/'\n",
    "image = pims.open(path+'pH 7.5 capillary 1 image ii_Bottom Slide_D_p00_0_A01f14d4.PNG')\n",
    "rgb_75_2 = np.mean(image[0], axis=(0,1))\n",
    "print(rgb_75_2)"
   ]
  },
  {
   "cell_type": "code",
   "execution_count": 24,
   "id": "9d42b9ac",
   "metadata": {},
   "outputs": [
    {
     "name": "stdout",
     "output_type": "stream",
     "text": [
      "[137.174496   132.67661299 102.56379455 254.99994796]\n"
     ]
    }
   ],
   "source": [
    "path = 'settings 1/pH 7.5 capillary 1 image iii.2024-08-21-17-24-08/'\n",
    "image = pims.open(path+'pH 7.5 capillary 1 image iii_Bottom Slide_D_p00_0_A01f15d4.PNG')\n",
    "rgb_75_3 = np.mean(image[0], axis=(0,1))\n",
    "print(rgb_75_3)"
   ]
  },
  {
   "cell_type": "code",
   "execution_count": 25,
   "id": "b7cab459",
   "metadata": {},
   "outputs": [
    {
     "data": {
      "text/plain": [
       "array([[137.40178399, 132.84794744, 102.88632007, 254.99994796],\n",
       "       [136.46910624, 131.99985038, 101.91378711, 254.99994796],\n",
       "       [137.174496  , 132.67661299, 102.56379455, 254.99994796]])"
      ]
     },
     "execution_count": 25,
     "metadata": {},
     "output_type": "execute_result"
    }
   ],
   "source": [
    "rgb_75 = np.row_stack((rgb_75_1, rgb_75_2, rgb_75_3))\n",
    "rgb_75"
   ]
  },
  {
   "cell_type": "markdown",
   "id": "3144adfc",
   "metadata": {},
   "source": [
    "## Summary"
   ]
  },
  {
   "cell_type": "code",
   "execution_count": 26,
   "id": "576ebfb2",
   "metadata": {},
   "outputs": [
    {
     "data": {
      "text/plain": [
       "array([[  7.5       , 137.40178399, 132.84794744, 102.88632007,\n",
       "        254.99994796],\n",
       "       [  7.5       , 136.46910624, 131.99985038, 101.91378711,\n",
       "        254.99994796],\n",
       "       [  7.5       , 137.174496  , 132.67661299, 102.56379455,\n",
       "        254.99994796],\n",
       "       [  8.        , 120.94736258, 119.04650172,  99.83216848,\n",
       "        254.99994796],\n",
       "       [  8.        , 125.42442258, 123.37337338, 102.44742919,\n",
       "        254.99994796],\n",
       "       [  8.        , 126.99030686, 124.83315759, 103.37429495,\n",
       "        254.99994796],\n",
       "       [  8.5       , 106.10575622, 107.61250341, 101.98179768,\n",
       "        254.99994796],\n",
       "       [  8.5       , 106.90805598, 108.44517682, 102.34877113,\n",
       "        254.99994796],\n",
       "       [  8.5       , 109.81172433, 111.40805598, 105.37455733,\n",
       "        254.99994796],\n",
       "       [  9.        ,  89.8124904 ,  96.30634603, 115.84273146,\n",
       "        254.99994796],\n",
       "       [  9.        ,  91.18764002,  97.73737671, 116.85329383,\n",
       "        254.99994796],\n",
       "       [  9.        ,  89.67877707,  96.09546336, 115.20996543,\n",
       "        254.99994796],\n",
       "       [  9.5       ,  79.85386412,  88.42678833, 120.77131617,\n",
       "        254.99994796],\n",
       "       [  9.5       ,  78.41865025,  86.85279137, 119.17462455,\n",
       "        254.99994796],\n",
       "       [  9.5       ,  80.08312847,  88.71496425, 121.54752522,\n",
       "        254.99994796],\n",
       "       [ 10.        ,  77.18475292,  86.37562203, 124.2917501 ,\n",
       "        254.99994796],\n",
       "       [ 10.        ,  70.59138209,  78.99172067, 114.16843527,\n",
       "        254.99994796],\n",
       "       [ 10.        ,  73.40425444,  82.1685629 , 118.62119505,\n",
       "        254.99994796]])"
      ]
     },
     "execution_count": 26,
     "metadata": {},
     "output_type": "execute_result"
    }
   ],
   "source": [
    "pH = np.array([7.5, 7.5, 7.5, 8, 8, 8, 8.5, 8.5, 8.5, 9, 9, 9, 9.5, 9.5, 9.5, 10, 10, 10])\n",
    "rgb = np.column_stack((pH, np.row_stack((rgb_75, rgb_8, rgb_85, rgb_9, rgb_95, rgb_10))))\n",
    "rgb"
   ]
  },
  {
   "cell_type": "markdown",
   "id": "9b598860",
   "metadata": {},
   "source": [
    "# Export"
   ]
  },
  {
   "cell_type": "code",
   "execution_count": 27,
   "id": "ad81220e",
   "metadata": {},
   "outputs": [
    {
     "data": {
      "text/html": [
       "<div>\n",
       "<style scoped>\n",
       "    .dataframe tbody tr th:only-of-type {\n",
       "        vertical-align: middle;\n",
       "    }\n",
       "\n",
       "    .dataframe tbody tr th {\n",
       "        vertical-align: top;\n",
       "    }\n",
       "\n",
       "    .dataframe thead th {\n",
       "        text-align: right;\n",
       "    }\n",
       "</style>\n",
       "<table border=\"1\" class=\"dataframe\">\n",
       "  <thead>\n",
       "    <tr style=\"text-align: right;\">\n",
       "      <th></th>\n",
       "      <th>pH</th>\n",
       "      <th>R</th>\n",
       "      <th>G</th>\n",
       "      <th>B</th>\n",
       "      <th>4th channel</th>\n",
       "    </tr>\n",
       "  </thead>\n",
       "  <tbody>\n",
       "    <tr>\n",
       "      <th>0</th>\n",
       "      <td>7.5</td>\n",
       "      <td>137.401784</td>\n",
       "      <td>132.847947</td>\n",
       "      <td>102.886320</td>\n",
       "      <td>254.999948</td>\n",
       "    </tr>\n",
       "    <tr>\n",
       "      <th>1</th>\n",
       "      <td>7.5</td>\n",
       "      <td>136.469106</td>\n",
       "      <td>131.999850</td>\n",
       "      <td>101.913787</td>\n",
       "      <td>254.999948</td>\n",
       "    </tr>\n",
       "    <tr>\n",
       "      <th>2</th>\n",
       "      <td>7.5</td>\n",
       "      <td>137.174496</td>\n",
       "      <td>132.676613</td>\n",
       "      <td>102.563795</td>\n",
       "      <td>254.999948</td>\n",
       "    </tr>\n",
       "    <tr>\n",
       "      <th>3</th>\n",
       "      <td>8.0</td>\n",
       "      <td>120.947363</td>\n",
       "      <td>119.046502</td>\n",
       "      <td>99.832168</td>\n",
       "      <td>254.999948</td>\n",
       "    </tr>\n",
       "    <tr>\n",
       "      <th>4</th>\n",
       "      <td>8.0</td>\n",
       "      <td>125.424423</td>\n",
       "      <td>123.373373</td>\n",
       "      <td>102.447429</td>\n",
       "      <td>254.999948</td>\n",
       "    </tr>\n",
       "    <tr>\n",
       "      <th>5</th>\n",
       "      <td>8.0</td>\n",
       "      <td>126.990307</td>\n",
       "      <td>124.833158</td>\n",
       "      <td>103.374295</td>\n",
       "      <td>254.999948</td>\n",
       "    </tr>\n",
       "    <tr>\n",
       "      <th>6</th>\n",
       "      <td>8.5</td>\n",
       "      <td>106.105756</td>\n",
       "      <td>107.612503</td>\n",
       "      <td>101.981798</td>\n",
       "      <td>254.999948</td>\n",
       "    </tr>\n",
       "    <tr>\n",
       "      <th>7</th>\n",
       "      <td>8.5</td>\n",
       "      <td>106.908056</td>\n",
       "      <td>108.445177</td>\n",
       "      <td>102.348771</td>\n",
       "      <td>254.999948</td>\n",
       "    </tr>\n",
       "    <tr>\n",
       "      <th>8</th>\n",
       "      <td>8.5</td>\n",
       "      <td>109.811724</td>\n",
       "      <td>111.408056</td>\n",
       "      <td>105.374557</td>\n",
       "      <td>254.999948</td>\n",
       "    </tr>\n",
       "    <tr>\n",
       "      <th>9</th>\n",
       "      <td>9.0</td>\n",
       "      <td>89.812490</td>\n",
       "      <td>96.306346</td>\n",
       "      <td>115.842731</td>\n",
       "      <td>254.999948</td>\n",
       "    </tr>\n",
       "    <tr>\n",
       "      <th>10</th>\n",
       "      <td>9.0</td>\n",
       "      <td>91.187640</td>\n",
       "      <td>97.737377</td>\n",
       "      <td>116.853294</td>\n",
       "      <td>254.999948</td>\n",
       "    </tr>\n",
       "    <tr>\n",
       "      <th>11</th>\n",
       "      <td>9.0</td>\n",
       "      <td>89.678777</td>\n",
       "      <td>96.095463</td>\n",
       "      <td>115.209965</td>\n",
       "      <td>254.999948</td>\n",
       "    </tr>\n",
       "    <tr>\n",
       "      <th>12</th>\n",
       "      <td>9.5</td>\n",
       "      <td>79.853864</td>\n",
       "      <td>88.426788</td>\n",
       "      <td>120.771316</td>\n",
       "      <td>254.999948</td>\n",
       "    </tr>\n",
       "    <tr>\n",
       "      <th>13</th>\n",
       "      <td>9.5</td>\n",
       "      <td>78.418650</td>\n",
       "      <td>86.852791</td>\n",
       "      <td>119.174625</td>\n",
       "      <td>254.999948</td>\n",
       "    </tr>\n",
       "    <tr>\n",
       "      <th>14</th>\n",
       "      <td>9.5</td>\n",
       "      <td>80.083128</td>\n",
       "      <td>88.714964</td>\n",
       "      <td>121.547525</td>\n",
       "      <td>254.999948</td>\n",
       "    </tr>\n",
       "    <tr>\n",
       "      <th>15</th>\n",
       "      <td>10.0</td>\n",
       "      <td>77.184753</td>\n",
       "      <td>86.375622</td>\n",
       "      <td>124.291750</td>\n",
       "      <td>254.999948</td>\n",
       "    </tr>\n",
       "    <tr>\n",
       "      <th>16</th>\n",
       "      <td>10.0</td>\n",
       "      <td>70.591382</td>\n",
       "      <td>78.991721</td>\n",
       "      <td>114.168435</td>\n",
       "      <td>254.999948</td>\n",
       "    </tr>\n",
       "    <tr>\n",
       "      <th>17</th>\n",
       "      <td>10.0</td>\n",
       "      <td>73.404254</td>\n",
       "      <td>82.168563</td>\n",
       "      <td>118.621195</td>\n",
       "      <td>254.999948</td>\n",
       "    </tr>\n",
       "  </tbody>\n",
       "</table>\n",
       "</div>"
      ],
      "text/plain": [
       "      pH           R           G           B  4th channel\n",
       "0    7.5  137.401784  132.847947  102.886320   254.999948\n",
       "1    7.5  136.469106  131.999850  101.913787   254.999948\n",
       "2    7.5  137.174496  132.676613  102.563795   254.999948\n",
       "3    8.0  120.947363  119.046502   99.832168   254.999948\n",
       "4    8.0  125.424423  123.373373  102.447429   254.999948\n",
       "5    8.0  126.990307  124.833158  103.374295   254.999948\n",
       "6    8.5  106.105756  107.612503  101.981798   254.999948\n",
       "7    8.5  106.908056  108.445177  102.348771   254.999948\n",
       "8    8.5  109.811724  111.408056  105.374557   254.999948\n",
       "9    9.0   89.812490   96.306346  115.842731   254.999948\n",
       "10   9.0   91.187640   97.737377  116.853294   254.999948\n",
       "11   9.0   89.678777   96.095463  115.209965   254.999948\n",
       "12   9.5   79.853864   88.426788  120.771316   254.999948\n",
       "13   9.5   78.418650   86.852791  119.174625   254.999948\n",
       "14   9.5   80.083128   88.714964  121.547525   254.999948\n",
       "15  10.0   77.184753   86.375622  124.291750   254.999948\n",
       "16  10.0   70.591382   78.991721  114.168435   254.999948\n",
       "17  10.0   73.404254   82.168563  118.621195   254.999948"
      ]
     },
     "execution_count": 27,
     "metadata": {},
     "output_type": "execute_result"
    }
   ],
   "source": [
    "df = pd.DataFrame(rgb, columns = ['pH','R','G','B', '4th channel'])\n",
    "df"
   ]
  },
  {
   "cell_type": "code",
   "execution_count": 28,
   "id": "4b519f71",
   "metadata": {},
   "outputs": [],
   "source": [
    "df.to_csv('pH_calibration_capillary_data (24.08.21 settings 1 nm).csv')"
   ]
  },
  {
   "cell_type": "markdown",
   "id": "07a2acb8",
   "metadata": {},
   "source": [
    "## RGB values of capillary images with known pH"
   ]
  },
  {
   "cell_type": "code",
   "execution_count": null,
   "id": "140b54b9",
   "metadata": {},
   "outputs": [],
   "source": [
    "directory = '/'\n",
    "p = 2880 # time index \n",
    "f = 4 # location index "
   ]
  },
  {
   "cell_type": "code",
   "execution_count": null,
   "id": "1bf0a0a5",
   "metadata": {},
   "outputs": [],
   "source": [
    "filename = '.PNG'%(p,f)\n",
    "\n",
    "image = pims.open(directory+filename)[0]"
   ]
  },
  {
   "cell_type": "code",
   "execution_count": null,
   "id": "fb40b129",
   "metadata": {},
   "outputs": [],
   "source": [
    "num_items = len(os.listdir(directory))\n",
    "num_items"
   ]
  },
  {
   "cell_type": "code",
   "execution_count": null,
   "id": "9b9f6ec6",
   "metadata": {},
   "outputs": [],
   "source": [
    "Ly,Lx,Lt = image.shape\n",
    "Ly"
   ]
  },
  {
   "cell_type": "code",
   "execution_count": null,
   "id": "77192cb9",
   "metadata": {},
   "outputs": [],
   "source": [
    "# Create the pandas DataFrame with column name is provided explicitly\n",
    "df_pixel = pd.DataFrame(columns=['time','loc','x', 'r','g','b','unknown'])\n",
    "\n",
    "for p in range(0,2881,1):\n",
    "    for f in range(4,5,1):\n",
    "        filename = '24.11.14 10 mM Bicarbonate, 20 mM HCl with Droplets_Top Slide_R_p%02d_0_A01f%02dd4.PNG'%(p,f)\n",
    "        print(directory+filename)\n",
    "        try:\n",
    "            image = pims.open(directory+filename)[0]\n",
    "            #if len(image.shape) > 2 and image.shape[2]==4:\n",
    "                #image = image[:,:,:3]\n",
    "            img = image\n",
    "            rgb = np.mean(img,axis=0)\n",
    "            rows = {'time': p*np.ones((Lx,), dtype=int),\n",
    "                    'loc': f*np.ones((Lx,), dtype=int),\n",
    "                    'x': np.arange(Lx),\n",
    "                    'r': rgb[:,0],\n",
    "                    'g': rgb[:,1],\n",
    "                    'b': rgb[:,2]}\n",
    "                   #'unknown': rgb[:,3]}\n",
    "            new_df_pixel = pd.DataFrame(rows)\n",
    "            df_pixel = pd.concat([df_pixel,new_df_pixel], ignore_index=True)\n",
    "        except:\n",
    "            print('no such file!')"
   ]
  },
  {
   "cell_type": "code",
   "execution_count": null,
   "id": "2cf31156",
   "metadata": {},
   "outputs": [],
   "source": [
    "#plot RGB values\n",
    "loc = 4 # time index\n",
    "time = 1 # space index\n",
    "\n",
    "idx2 = (df_pixel['time']==time) & (df_pixel['loc']==loc)\n",
    "\n",
    "\n",
    "\n",
    "plt.plot(df_pixel['x'][idx2], df_pixel['r'][idx2], 'r', label='R')\n",
    "plt.plot(df_pixel['x'][idx2], df_pixel['g'][idx2], 'g', label='G')\n",
    "plt.plot(df_pixel['x'][idx2], df_pixel['b'][idx2], 'b', label='B')\n",
    "plt.xlabel('$x$ (pixels)')\n",
    "plt.ylim(50,120)\n",
    "plt.legend(frameon=False);"
   ]
  }
 ],
 "metadata": {
  "kernelspec": {
   "display_name": "Python 3 (ipykernel)",
   "language": "python",
   "name": "python3"
  },
  "language_info": {
   "codemirror_mode": {
    "name": "ipython",
    "version": 3
   },
   "file_extension": ".py",
   "mimetype": "text/x-python",
   "name": "python",
   "nbconvert_exporter": "python",
   "pygments_lexer": "ipython3",
   "version": "3.9.12"
  }
 },
 "nbformat": 4,
 "nbformat_minor": 5
}
